{
 "cells": [
  {
   "cell_type": "markdown",
   "metadata": {},
   "source": [
    "### `jax` FLFM prototype implementation"
   ]
  },
  {
   "cell_type": "code",
   "execution_count": 1,
   "metadata": {},
   "outputs": [],
   "source": [
    "import functools\n",
    "from pathlib import Path\n",
    "\n",
    "import jax\n",
    "import jax.numpy as jnp\n",
    "import jax.scipy as jsp\n",
    "import matplotlib.pyplot as plt\n",
    "import numpy as np\n",
    "from PIL import Image"
   ]
  },
  {
   "cell_type": "code",
   "execution_count": null,
   "metadata": {},
   "outputs": [],
   "source": [
    "def open_image(path:Path) -> jnp.ndarray:\n",
    "    img = Image.open(path)\n",
    "    imgs = []\n",
    "    for i in range(img.n_frames):\n",
    "        img.seek(i)\n",
    "        imgs.append(jnp.array(img))\n",
    "\n",
    "    return jnp.stack(imgs, axis=0)\n",
    "\n",
    "image = open_image(\"../data/yale/light_field_image.tif\")\n",
    "measured_psf = open_image(\"../data/yale/measured_psf.tif\")\n",
    "mirrored_psf = jnp.flip(measured_psf, axis=(-2, -1))\n",
    "\n",
    "image.shape, measured_psf.shape"
   ]
  },
  {
   "cell_type": "code",
   "execution_count": 3,
   "metadata": {},
   "outputs": [],
   "source": [
    "# This is a single step of the RL deconvolution algorithm. The notation\n",
    "# follows the notation from\n",
    "def compute_step_f(\n",
    "    O:jnp.ndarray, # [k, n, n]\n",
    "    I:jnp.ndarray, # [1, n, n]\n",
    "    PSF_fft:jnp.ndarray, # [k, n, n/2+1]\n",
    "    PSFt_fft:jnp.ndarray, # [k, n, n/2+1]\n",
    ") -> jnp.ndarray:\n",
    "    denom = jnp.fft.irfft2(PSF_fft * jnp.fft.rfft2(O)).sum(axis=0, keepdims=True) # [1, n, n]\n",
    "    img_err = I / denom\n",
    "    return O * jnp.fft.fftshift(jnp.fft.irfft2(jnp.fft.rfft2(img_err) * PSFt_fft), axes=(-2, -1)) # [k, n, n]\n",
    "\n",
    "jitted_step_f = jax.jit(\n",
    "    compute_step_f,\n",
    ")"
   ]
  },
  {
   "cell_type": "code",
   "execution_count": 4,
   "metadata": {},
   "outputs": [],
   "source": [
    "# Our initial guess is 0.5 for all pixels\n",
    "guess = jnp.ones_like(measured_psf) * 0.5\n",
    "\n",
    "# Precompute the FFT of the PSFs\n",
    "psf_fft = jnp.fft.rfft2(measured_psf)\n",
    "psft_fft = jnp.fft.rfft2(mirrored_psf)"
   ]
  },
  {
   "cell_type": "code",
   "execution_count": 5,
   "metadata": {},
   "outputs": [],
   "source": [
    "# Jax is JIT-compiled. This means that the first time we call it, it will\n",
    "# trace the function and compile it for the cpu or gpu using the XLA compiler.\n",
    "# We should be aware of the penalty of this compilation time.\n",
    "# After the first call, the function will be cached and subsequent calls will be\n",
    "# much faster.\n",
    "_ = jitted_step_f(guess, image, psf_fft, psft_fft).block_until_ready()"
   ]
  },
  {
   "cell_type": "code",
   "execution_count": 6,
   "metadata": {},
   "outputs": [],
   "source": [
    "# Now we can run the algorithm for 10 iterations\n",
    "#\n",
    "# Oddly, the first time this is run is 0.7s, but every subsequent time is 0.4s\n",
    "# on my local V100\n",
    "for _ in range(10):\n",
    "    guess = compute_step_f(guess, image, psf_fft, psft_fft).block_until_ready()"
   ]
  },
  {
   "cell_type": "markdown",
   "metadata": {},
   "source": [
    "### Post processing of the results\n",
    "Apply the circle mask and save as a stacked `tiff`"
   ]
  },
  {
   "cell_type": "code",
   "execution_count": 7,
   "metadata": {},
   "outputs": [],
   "source": [
    "def make_circle_mask(\n",
    "    radius:int,\n",
    ") -> jnp.ndarray:\n",
    "    y, x = jnp.ogrid[:2*radius, :2*radius]\n",
    "    circle_mask = (x - radius)**2 + (y - radius)**2 <= radius**2\n",
    "    return circle_mask.astype(jnp.float32)\n",
    "\n",
    "def post_processing(\n",
    "    O:jnp.ndarray,\n",
    "    center:tuple[int, int],\n",
    "    radius:int,\n",
    ") -> jnp.ndarray:\n",
    "    circle_mask = jnp.expand_dims(make_circle_mask(radius), axis=0)\n",
    "    sub_o = O[:, center[0]-radius:center[0]+radius, center[1]-radius:center[1]+radius]\n",
    "    return sub_o * circle_mask\n",
    "\n",
    "proc_guess = post_processing(guess, (1000, 980), 230)"
   ]
  },
  {
   "cell_type": "code",
   "execution_count": null,
   "metadata": {},
   "outputs": [],
   "source": [
    "plt.imshow(proc_guess[21,...])"
   ]
  },
  {
   "cell_type": "code",
   "execution_count": 9,
   "metadata": {},
   "outputs": [],
   "source": [
    "img = Image.fromarray(np.array(proc_guess[0]))\n",
    "img.save(\n",
    "    \"jax_img.tif\",\n",
    "    format=\"tiff\",\n",
    "    append_images=[Image.fromarray(np.array(proc_guess[i])) for i in range(1, len(proc_guess))],\n",
    "    save_all=True\n",
    ")"
   ]
  }
 ],
 "metadata": {
  "kernelspec": {
   "display_name": "jax-gpu",
   "language": "python",
   "name": "python3"
  },
  "language_info": {
   "codemirror_mode": {
    "name": "ipython",
    "version": 3
   },
   "file_extension": ".py",
   "mimetype": "text/x-python",
   "name": "python",
   "nbconvert_exporter": "python",
   "pygments_lexer": "ipython3",
   "version": "3.13.0"
  }
 },
 "nbformat": 4,
 "nbformat_minor": 2
}
