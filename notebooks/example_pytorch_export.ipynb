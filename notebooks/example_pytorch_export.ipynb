{
 "cells": [
  {
   "cell_type": "code",
   "execution_count": 1,
   "metadata": {},
   "outputs": [],
   "source": [
    "import torch"
   ]
  },
  {
   "cell_type": "code",
   "execution_count": 2,
   "metadata": {},
   "outputs": [
    {
     "data": {
      "text/plain": [
       "device(type='cpu')"
      ]
     },
     "execution_count": 2,
     "metadata": {},
     "output_type": "execute_result"
    }
   ],
   "source": [
    "device = torch.device(\"cuda\" if torch.cuda.is_available() else \"cpu\")\n",
    "device"
   ]
  },
  {
   "cell_type": "code",
   "execution_count": 3,
   "metadata": {},
   "outputs": [
    {
     "name": "stderr",
     "output_type": "stream",
     "text": [
      "/home/ryanhausen/mambaforge-pypy3/envs/flfm/lib/python3.12/site-packages/torch/jit/_script.py:1139: UserWarning: Warning: monkeytype is not installed. Please install https://github.com/Instagram/MonkeyType to enable Profile-Directed Typing in TorchScript. Refer to https://github.com/Instagram/MonkeyType/blob/master/README.rst to install MonkeyType. \n",
      "  warnings.warn(\n"
     ]
    }
   ],
   "source": [
    "def compute_step_f(\n",
    "    data: torch.Tensor,  # [k, n, n]\n",
    "    image: torch.Tensor,  # [1, n, n]\n",
    "    PSF_fft: torch.Tensor,  # [k, n, n/2+1]\n",
    "    PSFt_fft: torch.Tensor,  # [k, n, n/2+1]\n",
    ") -> torch.Tensor:\n",
    "    \"\"\"Single step of the multiplicative Richardson-Lucy deconvolution algorithm.\"\"\"\n",
    "    denom = torch.fft.irfft2(PSF_fft * torch.fft.rfft2(data), dim=(-2, -1)).sum(dim=0, keepdim=True)  # [1, n, n]\n",
    "    img_err = image / denom\n",
    "    return data * torch.fft.fftshift(torch.fft.irfft2(torch.fft.rfft2(img_err) * PSFt_fft), dim=(-2, -1))  # [k, n, n]\n",
    "\n",
    "\n",
    "def richard_lucy_10(img: torch.Tensor, psf: torch.Tensor) -> torch.Tensor:\n",
    "    PSF_fft = torch.fft.rfft2(psf)  # [k, n, n/2+1]\n",
    "    PSFt_fft = torch.fft.rfft2(psf.flip([0, 1]))  # [k, n, n/2+1]\n",
    "    data = torch.ones_like(img)  # [k, n, n]\n",
    "\n",
    "    for _ in range(10):\n",
    "        data = compute_step_f(data, img, PSF_fft, PSFt_fft)\n",
    "\n",
    "    return data\n",
    "\n",
    "\n",
    "jitted_fn = torch.jit.script(\n",
    "    richard_lucy_10,\n",
    "    example_inputs=(\n",
    "        torch.zeros(1, 2048, 2048, dtype=torch.float32).to(device),\n",
    "        torch.rand(41, 2014, 2048, dtype=torch.float32).to(device),\n",
    "    ),\n",
    ")\n",
    "torch.jit.save(jitted_fn, \"richardson_lucy_10.pt\")"
   ]
  },
  {
   "cell_type": "code",
   "execution_count": null,
   "metadata": {},
   "outputs": [],
   "source": []
  }
 ],
 "metadata": {
  "kernelspec": {
   "display_name": "flfm",
   "language": "python",
   "name": "python3"
  },
  "language_info": {
   "codemirror_mode": {
    "name": "ipython",
    "version": 3
   },
   "file_extension": ".py",
   "mimetype": "text/x-python",
   "name": "python",
   "nbconvert_exporter": "python",
   "pygments_lexer": "ipython3",
   "version": "3.12.9"
  }
 },
 "nbformat": 4,
 "nbformat_minor": 2
}
