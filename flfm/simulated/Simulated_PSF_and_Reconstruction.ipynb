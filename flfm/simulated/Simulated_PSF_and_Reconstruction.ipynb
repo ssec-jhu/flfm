{
 "cells": [
  {
   "cell_type": "code",
   "execution_count": null,
   "metadata": {},
   "outputs": [],
   "source": [
    "import numpy as np\n",
    "\n",
    "import matplotlib.pyplot as plt\n",
    "from tqdm import tqdm\n",
    "\n",
    "import scipy.special as sp\n",
    "\n",
    "from skimage import io\n",
    "\n",
    "from scipy.ndimage import gaussian_filter\n",
    "from scipy import interpolate\n",
    "\n",
    "from numpy.fft import fft2, fftshift, ifft2\n"
   ]
  },
  {
   "cell_type": "markdown",
   "metadata": {},
   "source": [
    "# Startup"
   ]
  },
  {
   "cell_type": "code",
   "execution_count": null,
   "metadata": {},
   "outputs": [],
   "source": [
    "# Load the PSF\n",
    "experimental_PSF = io.imread('/Volumes/SanDisk/MakingCustomPSF/PSF.tif')\n",
    "\n",
    "# Load the Experimental data\n",
    "img = plt.imread(\"/Volumes/SanDisk/MakingCustomPSF/Im0.tif\")\n"
   ]
  },
  {
   "cell_type": "code",
   "execution_count": 4,
   "metadata": {},
   "outputs": [],
   "source": [
    "# Parameters of imaging\n",
    "lambda_ = 520.0    \t\t\t\t    \t# illumination wavelength [nm]\n",
    "n_ref = 1.333\t\t\t\t\t    # refractive index of medium\n",
    "sliceSpacing = 5000 \t\t\t\t\t# in object space [nm]\n",
    "\n",
    "\n",
    "# Design parameters of the FLFM system\n",
    "Obj_NA = 0.8\n",
    "pix_size = 6.5 # um/pixel\n",
    "F_fourier = 200 #Focal length of Fourier lens\n",
    "F_tubelens = 300 #Focal length of tube lens\n",
    "F_MLA = 30 #Focal length of microlens array [mm]\n",
    "F_obj = (200/16) #Focal length of objective\n",
    "d_MLA = 1.3 #Aperature of the microlens array [mm]\n",
    "d_Cam = 13.2 #Length of camera chip [mm]"
   ]
  },
  {
   "cell_type": "code",
   "execution_count": null,
   "metadata": {},
   "outputs": [],
   "source": [
    "# Defining all relevant functions\n",
    "\n",
    "\n",
    "\n",
    "\n",
    "def DetectLine(vol_slice, ymin, xmin, PSF_depth):\n",
    "\n",
    "    vol_bw_slice=np.zeros_like(vol_slice)\n",
    "\n",
    "    z_center = np.linspace(0, PSF_depth-1, PSF_depth)\n",
    "    x_center = np.zeros_like(z_center)\n",
    "    y_center = np.zeros_like(z_center)\n",
    "\n",
    "\n",
    "    for zz in range(0, PSF_depth):\n",
    "\n",
    "        im_slice = vol_slice[zz, :, :]\n",
    "\n",
    "        blur = gaussian_filter(im_slice, 3)\n",
    "\n",
    "        xs, ys = np.where(blur==np.max(blur))\n",
    "\n",
    "        x_center[zz] = xs[0]\n",
    "        y_center[zz] = ys[0]\n",
    "\n",
    "\n",
    "    f_x = interpolate.interp1d(z_center, y_center+ymin)\n",
    "    f_y = interpolate.interp1d(z_center, x_center+xmin)\n",
    "\n",
    "    return f_x, f_y\n",
    "\n",
    "\n",
    "# Richardson-Lucy 3D-to-2D deconvolution\n",
    "def RL_3Ddeconv(img, FFT_PSF, rec_vol, FFT_PSF_inv_norm, n_iter):\n",
    "\n",
    "    for it in tqdm(range(n_iter)):\n",
    "\n",
    "        proj_im = np.zeros((np.shape(rec_vol)[1],np.shape(rec_vol)[2]), dtype=np.float32)\n",
    "\n",
    "        for s in range(len(FFT_PSF)):\n",
    "\n",
    "            conv_result = np.real(fftshift(ifft2(fft2(rec_vol[s, :, :]) * FFT_PSF[s, :, :])))\n",
    "\n",
    "            proj_im += conv_result\n",
    "\n",
    "        im_error = img / proj_im\n",
    "        im_error[proj_im == 0] = 0\n",
    "        im_error[im_error < 0] = 0\n",
    "\n",
    "        FFT_im_error = fft2(im_error)\n",
    "\n",
    "        rec_vol_err =  np.zeros_like(FFT_PSF_inv_norm)\n",
    "\n",
    "        for s in range(len(FFT_PSF_inv_norm)):\n",
    "            rec_vol_err[s, :, :] = np.real(fftshift(ifft2(FFT_PSF_inv_norm[s, :, :] * FFT_im_error)))\n",
    "\n",
    "        rec_vol = np.multiply(rec_vol,rec_vol_err)\n",
    "\n",
    "    return rec_vol\n",
    "\n",
    "\n",
    "def conv2(FFT_PSF_inv_norm, FFT_im_error):\n",
    "\n",
    "    rec_vol_err =  np.zeros_like(FFT_PSF_inv_norm)\n",
    "\n",
    "    for s in range(len(FFT_PSF_inv_norm)):\n",
    "            rec_vol_err[s, :, :] = np.real(fftshift(ifft2(FFT_PSF_inv_norm[s, :, :] * FFT_im_error)))\n",
    "\n",
    "    return rec_vol_err"
   ]
  },
  {
   "cell_type": "markdown",
   "metadata": {},
   "source": [
    "# Code For Microlens PSF Generation\n",
    "\n",
    "### This will all be eliminated when we have automated detection"
   ]
  },
  {
   "cell_type": "code",
   "execution_count": 6,
   "metadata": {},
   "outputs": [],
   "source": [
    "\n",
    "def GetCoordinates(calib_file):\n",
    "    p = 0\n",
    "    x = True\n",
    "    c = []\n",
    "\n",
    "    with open(calib_file, 'r') as file:\n",
    "        av_radius = float(file.readline())\n",
    "        for line in file:\n",
    "            c.append([int(line.strip().split('\\t')[0]), int(line.strip().split('\\t')[1])]) #Return this as centers\n",
    "        \n",
    "    lenses_in_row = [3, 3, 3]\n",
    "\n",
    "    N_rows = len(lenses_in_row)\n",
    "\n",
    "    mid_row = int((N_rows-1)/2)\n",
    "    center_lens_num = np.sum(lenses_in_row[:mid_row]) + int((lenses_in_row[mid_row]-1)/2)\n",
    "\n",
    "    pts = np.array(c)\n",
    "    pts_sort = pts[np.argsort(pts[:, 1]), :]\n",
    "\n",
    "\n",
    "    av_pitch = 0\n",
    "    N = 0\n",
    "\n",
    "    # all the next-door points\n",
    "    for ii in range(0, len(lenses_in_row)):\n",
    "        for jj in range(lenses_in_row[ii]-1):\n",
    "            lens1 = int(np.sum(lenses_in_row[:ii]) + jj)\n",
    "            lens2 = int(np.sum(lenses_in_row[:ii]) + jj+1)\n",
    "            d = np.sqrt((pts_sort[lens1, 0] -pts_sort[lens2, 0])**2 + (pts_sort[lens1, 1] -pts_sort[lens2, 1])**2)\n",
    "            av_pitch += d\n",
    "            N +=1\n",
    "\n",
    "#all the frist points in each row\n",
    "\n",
    "    for ii in range(np.min(lenses_in_row)):\n",
    "        for jj in range(N_rows-1):\n",
    "            lens1 = int(np.sum(lenses_in_row[:jj]) + ii)\n",
    "            lens2 = int(np.sum(lenses_in_row[:jj+1]) + ii)\n",
    "            d = np.sqrt((pts_sort[lens1, 0] -pts_sort[lens2, 0])**2 + (pts_sort[lens1, 1] -pts_sort[lens2, 1])**2)\n",
    "            av_pitch += d\n",
    "            N += 1\n",
    "\n",
    "    av_pitch /= N if N != 0 else 1\n",
    "\n",
    "    norm_distances = []\n",
    "    for i in range(len(c)):\n",
    "        d = [(c[i][0] - c[len(c) // 2][0]) / av_pitch, (c[i][1] - c[len(c) // 2][1]) / av_pitch]\n",
    "        norm_distances.append(d)\n",
    "        \n",
    "    return av_radius, pts_sort, norm_distances, int(np.round(av_pitch)), center_lens_num"
   ]
  },
  {
   "cell_type": "code",
   "execution_count": 7,
   "metadata": {},
   "outputs": [],
   "source": [
    "\n",
    "calib_file = \"/Volumes/SanDisk/MakingCustomPSF/Calib.txt\"\n",
    "\n",
    "p = 0\n",
    "x = True\n",
    "c = []\n",
    "\n",
    "with open(calib_file, 'r') as file:\n",
    "    av_radius = float(file.readline())\n",
    "    for line in file:\n",
    "        c.append([int(line.strip().split('\\t')[0]), int(line.strip().split('\\t')[1])]) #return this as centers\n",
    "        \n",
    "lenses_in_row = [3, 3, 3]\n",
    "\n",
    "N_rows = len(lenses_in_row)\n",
    "\n",
    "mid_row = int((N_rows-1)/2)\n",
    "center_lens_num = np.sum(lenses_in_row[:mid_row]) + int((lenses_in_row[mid_row]-1)/2)\n",
    "\n",
    "pts = np.array(c)\n",
    "pts_sort = pts[np.argsort(pts[:, 1]), :]\n",
    "\n",
    "\n",
    "av_pitch = 0\n",
    "N = 0\n",
    "\n",
    "# all the next-door points\n",
    "for ii in range(0, len(lenses_in_row)):\n",
    "    for jj in range(lenses_in_row[ii]-1):\n",
    "        lens1 = int(np.sum(lenses_in_row[:ii]) + jj)\n",
    "        lens2 = int(np.sum(lenses_in_row[:ii]) + jj+1)\n",
    "        d = np.sqrt((pts_sort[lens1, 0] -pts_sort[lens2, 0])**2 + (pts_sort[lens1, 1] -pts_sort[lens2, 1])**2)\n",
    "        av_pitch += d\n",
    "        N +=1\n",
    "\n",
    "#all the frist points in each row\n",
    "\n",
    "for ii in range(np.min(lenses_in_row)):\n",
    "    for jj in range(N_rows-1):\n",
    "        lens1 = int(np.sum(lenses_in_row[:jj]) + ii)\n",
    "        lens2 = int(np.sum(lenses_in_row[:jj+1]) + ii)\n",
    "        d = np.sqrt((pts_sort[lens1, 0] -pts_sort[lens2, 0])**2 + (pts_sort[lens1, 1] -pts_sort[lens2, 1])**2)\n",
    "        av_pitch += d\n",
    "        N += 1\n",
    "\n",
    "av_pitch /= N if N != 0 else 1\n",
    "\n",
    "norm_distances = []\n",
    "for i in range(len(c)):\n",
    "    d = [(c[i][0] - c[len(c) // 2][0]) / av_pitch, (c[i][1] - c[len(c) // 2][1]) / av_pitch]\n",
    "    norm_distances.append(d)\n",
    "\n",
    "\n",
    "\n",
    "\n",
    "row = img.shape[0] - 1  # Row to delete\n",
    "col = img.shape[1] - 1  # Column to delete\n",
    "rect = (0, 0, col, row)\n",
    "img = img[rect[1]:rect[1]+rect[3], rect[0]:rect[0]+rect[2]]  # Crop the image\n",
    "\n",
    "# LF PSF creation\n",
    "av_radius, centers, norm_distances, av_pitch, center_lens_num = GetCoordinates(calib_file)\n"
   ]
  },
  {
   "cell_type": "markdown",
   "metadata": {},
   "source": [
    "## Add functionality to detect the circles!"
   ]
  },
  {
   "cell_type": "markdown",
   "metadata": {},
   "source": [
    "# Make the Airy disk PSF\n",
    "\n",
    "### This is all from the Valencia code. "
   ]
  },
  {
   "cell_type": "code",
   "execution_count": 8,
   "metadata": {},
   "outputs": [],
   "source": [
    "# Derived parameters to make Airy PSF\n",
    "\n",
    "M_total = (F_MLA*F_tubelens)/(F_fourier*F_obj)\n",
    "PSF_depth = experimental_PSF.shape[0] \t\t\t# number of reconstruction planes\n",
    "pixelSpacing =  pix_size*1000/M_total\t# in object space [nm]\n",
    "N = d_Cam/d_MLA #Number of microlenses in the aperature stop\n",
    "NA_eff = Obj_NA/N\t\t\t\t\t\t\t# effective NA\n",
    "d_Airy = 2*int((0.61*lambda_/NA_eff*M_total)/pixelSpacing) #diameter of airy disk [pixels]"
   ]
  },
  {
   "cell_type": "code",
   "execution_count": 9,
   "metadata": {},
   "outputs": [
    {
     "name": "stderr",
     "output_type": "stream",
     "text": [
      "100%|██████████| 41/41 [00:06<00:00,  6.48it/s]\n"
     ]
    }
   ],
   "source": [
    "\n",
    "PSF_width = 4*d_Airy\t\t\t\t\t\t\t\t# width of the calculated PSF [pixels] \n",
    "PSF_height = 4*d_Airy\t\t\t\t\t\t\t\t# height of the calculated PSF [pixels]\n",
    "\n",
    "PSF_mat = np.zeros((PSF_depth, PSF_width, PSF_height))\n",
    "\n",
    "stepsPerCycle = 10 \n",
    "\n",
    "x_c = PSF_width // 2\n",
    "y_c = PSF_height // 2\n",
    "z_c = PSF_depth // 2\n",
    "\n",
    "\n",
    "# Microlens PSF creation\n",
    "max_radius = 2 + int(np.sqrt(x_c**2 + y_c**2))\n",
    "integral = np.zeros(max_radius, dtype=float)\n",
    "upper_limit = np.tan(np.arcsin(NA_eff / n_ref))\n",
    "wave_num = 2 * np.pi * n_ref / lambda_\n",
    "\n",
    "for k in tqdm(range(PSF_depth)):\n",
    "\tkz = wave_num * (k - z_c) * sliceSpacing\n",
    "\tpixel_values = np.zeros((PSF_width  * PSF_height), dtype=float)\n",
    "\tfor r in range(0, max_radius):\n",
    "\t\tkr = wave_num * r * pixelSpacing\n",
    "\t\tnum_cycles = max(int(kr * upper_limit / 3), int(abs(kz) * 0.06 * upper_limit)) + 1\n",
    "\t\tnStep = 2 * stepsPerCycle * num_cycles\n",
    "\t\tm = nStep // 2\n",
    "\t\tstep = upper_limit / nStep\n",
    "\t\tsum_real = 0\n",
    "\t\tsum_im = 0\n",
    "\t\tfor j in range(1, m + 1):\n",
    "\t\t\t# Even argument: 2 * j * step (only for j < m)\n",
    "\t\t\tif j < m:\n",
    "\t\t\t\tu1 = 2 * j * step\n",
    "\t\t\t\tbessel1 = sp.j0(kr * u1 / np.sqrt(1 + u1**2))\n",
    "\t\t\t\tangle1 = kz / np.sqrt(1 + u1**2)\n",
    "\t\t\t\tsum_real += np.cos(angle1) * u1 * bessel1\n",
    "\t\t\t\tsum_im += np.sin(angle1) * u1 * bessel1\n",
    "\n",
    "    \t\t# Odd argument: (2 * j - 1) * step (for all j)\n",
    "\t\t\tu2 = (2 * j - 1) * step\n",
    "\t\t\tbessel2 = sp.j0(kr * u2 / np.sqrt(1 + u2**2))\n",
    "\t\t\tangle2 = kz / np.sqrt(1 + u2**2)\n",
    "\t\t\tsum_real += 2 * np.cos(angle2) * u2 * bessel2\n",
    "\t\t\tsum_im += 2 * np.sin(angle2) * u2 * bessel2\n",
    "\n",
    "\t\t#f(b)\n",
    "\t\tbessel = sp.j0(kr * upper_limit / np.sqrt(1 + upper_limit**2))\n",
    "\t\tangle = kz / np.sqrt(1 + upper_limit**2)\n",
    "\t\tsum_real += 0.5*np.cos(angle) * upper_limit * bessel\n",
    "\t\tsum_im += 0.5*np.sin(angle) * upper_limit * bessel\n",
    "\n",
    "\t\tintegral[r] = step**2 * (sum_real**2 + sum_im**2 ) / 9\n",
    "\t\t\n",
    "\tfor yy in range(0, PSF_height):\n",
    "\t\tfor xx in range(0, PSF_width): \n",
    "\t\t\trPixels = np.sqrt((xx - x_c)**2 + (yy - y_c)**2)\n",
    "\t\t\tpixel_values[xx + PSF_width * yy] = np.interp(rPixels,np.linspace(0, max_radius-1, len(integral)), integral)\n",
    "\n",
    "\tPSF_mat[k, :, :] = pixel_values.reshape((PSF_width, PSF_height))\n",
    "\n",
    "\n",
    "    \n"
   ]
  },
  {
   "cell_type": "code",
   "execution_count": 10,
   "metadata": {},
   "outputs": [
    {
     "data": {
      "text/plain": [
       "<matplotlib.image.AxesImage at 0x15619ab50>"
      ]
     },
     "execution_count": 10,
     "metadata": {},
     "output_type": "execute_result"
    },
    {
     "data": {
      "image/png": "[encoded data removed]",
      "text/plain": [
       "<Figure size 640x480 with 1 Axes>"
      ]
     },
     "metadata": {},
     "output_type": "display_data"
    }
   ],
   "source": [
    "plt.imshow(PSF_mat[10, :, :])"
   ]
  },
  {
   "cell_type": "code",
   "execution_count": 11,
   "metadata": {},
   "outputs": [
    {
     "data": {
      "text/plain": [
       "<matplotlib.image.AxesImage at 0x159385460>"
      ]
     },
     "execution_count": 11,
     "metadata": {},
     "output_type": "execute_result"
    },
    {
     "data": {
      "image/png": "[encoded data removed]",
      "text/plain": [
       "<Figure size 640x480 with 1 Axes>"
      ]
     },
     "metadata": {},
     "output_type": "display_data"
    }
   ],
   "source": [
    "plt.imshow(PSF_mat[:, 2*d_Airy, :])\n"
   ]
  },
  {
   "cell_type": "code",
   "execution_count": null,
   "metadata": {},
   "outputs": [],
   "source": [
    "# Realign the simulated PSF to match the experimnetnal PSF\n",
    "\n",
    "Corrected_Airy_psf = np.zeros((PSF_depth,img.shape[0],img.shape[1]))\n",
    "\n",
    "for cc in range(len(centers)):\n",
    "\n",
    "    x_range = (centers[cc][0]- int(np.floor(av_pitch / 2 )) , centers[cc][0]  + int(np.floor(av_pitch / 2  ))+1)\n",
    "    y_range = (centers[cc][1]  - int(np.floor(av_pitch / 2 )), centers[cc][1]  + int(np.floor(av_pitch / 2 )) + 1)\n",
    "        \n",
    "\n",
    "    x_cent = int((x_range[1] + x_range[0])/2)\n",
    "    y_cent = int((y_range[1] + y_range[0])/2)\n",
    "\n",
    "    xmin =int(x_cent-av_pitch/2)\n",
    "    xmax =int(x_cent+av_pitch/2)\n",
    "\n",
    "    ymin =int(y_cent-av_pitch/2)\n",
    "    ymax =int(y_cent+av_pitch/2)\n",
    "\n",
    "\n",
    "    vol_slice = experimental_PSF[:,ymin:ymax, xmin:xmax]\n",
    "\n",
    "    f_x, f_y = DetectLine(vol_slice,  xmin, ymin, PSF_depth)\n",
    "\n",
    "    for ii in range(0,PSF_depth):\n",
    "\n",
    "        x_cent = f_x(ii)\n",
    "        y_cent = f_y(ii)\n",
    "\n",
    "        xmin =int(x_cent-PSF_width/2)\n",
    "        xmax =int(x_cent+PSF_width/2)\n",
    "\n",
    "        ymin =int(y_cent-PSF_height/2)\n",
    "        ymax =int(y_cent+PSF_height/2)\n",
    "    \n",
    "        Corrected_Airy_psf[ii, ymin:ymax, xmin:xmax] = PSF_mat[ii, :, :]\n",
    "\n",
    "\n",
    "\n"
   ]
  },
  {
   "cell_type": "markdown",
   "metadata": {},
   "source": [
    "## Make the hybrid-PSF just using the gaussian disk"
   ]
  },
  {
   "cell_type": "markdown",
   "metadata": {},
   "source": [
    "### The PSF can be approximated as a Gaussian, with a width equal to the width of the central lobe of the airy disk. That is:\n",
    "\n",
    "$\\omega_0 \\approx 0.84*\\lambda*f \\#$ \n",
    "\n",
    "where \n",
    "\n",
    "$f \\# = 1/2 \\sqrt{(n/NA)^2 - 1}$\n",
    "\n",
    "so that,\n",
    "\n",
    "$\\omega_0 \\approx 0.42*\\lambda*\\sqrt{(n/NA)^2 - 1}$"
   ]
  },
  {
   "cell_type": "code",
   "execution_count": 16,
   "metadata": {},
   "outputs": [
    {
     "data": {
      "text/plain": [
       "2.042925791396164"
      ]
     },
     "execution_count": 16,
     "metadata": {},
     "output_type": "execute_result"
    }
   ],
   "source": [
    "gauss_stdev = (0.42*lambda_*np.sqrt((n_ref/NA_eff)**2 -1))/pixelSpacing #Standard devition of Gaussian approximating Airy disk [pix]\n"
   ]
  },
  {
   "cell_type": "code",
   "execution_count": 17,
   "metadata": {},
   "outputs": [
    {
     "data": {
      "text/plain": [
       "<matplotlib.image.AxesImage at 0x1593fdf10>"
      ]
     },
     "execution_count": 17,
     "metadata": {},
     "output_type": "execute_result"
    },
    {
     "data": {
      "image/png": "[encoded data removed]",
      "text/plain": [
       "<Figure size 640x480 with 1 Axes>"
      ]
     },
     "metadata": {},
     "output_type": "display_data"
    }
   ],
   "source": [
    "\n",
    "\n",
    "gauss_sz = 2*int(6*gauss_stdev) + 1 # plot out to 5*\\sigma\n",
    "\n",
    "\n",
    "gauss = np.zeros((gauss_sz, gauss_sz))\n",
    "\n",
    "gauss[int((gauss_sz-1)/2), int((gauss_sz-1)/2)]=1\n",
    "\n",
    "gauss = gaussian_filter(gauss, gauss_stdev)\n",
    "\n",
    "plt.imshow(gauss)"
   ]
  },
  {
   "cell_type": "code",
   "execution_count": null,
   "metadata": {},
   "outputs": [],
   "source": [
    "\n",
    "Gauss_psf=np.zeros((PSF_depth,img.shape[0],img.shape[1]))\n",
    "\n",
    "for cc in range(len(centers)):\n",
    "\n",
    "    x_range = (centers[cc][0]- int(np.floor(av_pitch / 2 )) , centers[cc][0]  + int(np.floor(av_pitch / 2  ))+1)\n",
    "    y_range = (centers[cc][1]  - int(np.floor(av_pitch / 2 )), centers[cc][1]  + int(np.floor(av_pitch / 2 )) + 1)\n",
    "        \n",
    "    x_cent = int((x_range[1] + x_range[0])/2)\n",
    "    y_cent = int((y_range[1] + y_range[0])/2)\n",
    "\n",
    "    xmin =int(x_cent-av_pitch/2)\n",
    "    xmax =int(x_cent+av_pitch/2)\n",
    "\n",
    "    ymin =int(y_cent-av_pitch/2)\n",
    "    ymax =int(y_cent+av_pitch/2)\n",
    "\n",
    "\n",
    "    vol_slice = experimental_PSF[:,ymin:ymax, xmin:xmax]\n",
    "\n",
    "    f_x, f_y = DetectLine(vol_slice,  xmin, ymin, PSF_depth)\n",
    "\n",
    "    for ii in range(0,PSF_depth):\n",
    "\n",
    "        x_cent = f_x(ii)\n",
    "        y_cent = f_y(ii)\n",
    "\n",
    "        xmin =int(x_cent-(int((gauss_sz-1)/2)+1))\n",
    "        xmax =int(x_cent+int((gauss_sz-1)/2))\n",
    "\n",
    "        ymin =int(y_cent-(int((gauss_sz-1)/2)+1))\n",
    "        ymax =int(y_cent+int((gauss_sz-1)/2))\n",
    "    \n",
    "        Gauss_psf[ii, ymin:ymax, xmin:xmax] = gauss"
   ]
  },
  {
   "cell_type": "markdown",
   "metadata": {},
   "source": [
    "# Run deconvolution"
   ]
  },
  {
   "cell_type": "code",
   "execution_count": 25,
   "metadata": {},
   "outputs": [],
   "source": [
    "#PSF_to_use = Gauss_psf\n",
    "PSF_to_use = Corrected_Airy_psf\n",
    "\n",
    "PSF_to_use /= np.sum(Corrected_Airy_psf)\n",
    "\n",
    "LF_PSF_mat_inv = np.zeros(np.shape(PSF_to_use))\n",
    "vals_sum = 0.0\n",
    "for s in range(PSF_depth):\n",
    "    aux = np.flip(PSF_to_use[s, :, :], axis=(-2, -1))\n",
    "    LF_PSF_mat_inv[s, :, :] = aux\n",
    "    vals_sum += np.sum(aux)\n",
    "\n",
    "LF_PSF_mat_inv_norm = LF_PSF_mat_inv/vals_sum\n",
    "\n",
    "FFT_PSF_inv_norm = fft2(LF_PSF_mat_inv_norm)\n",
    "\n",
    "\n",
    "img = img.astype(np.float32)\n",
    "vol_0 = np.ones((PSF_depth,img.shape[0],img.shape[1]))\n",
    "FFT_PSF = fft2(PSF_to_use)\n",
    "\n",
    "\n",
    "\n"
   ]
  },
  {
   "cell_type": "code",
   "execution_count": 26,
   "metadata": {},
   "outputs": [
    {
     "name": "stderr",
     "output_type": "stream",
     "text": [
      "100%|██████████| 10/10 [06:41<00:00, 40.11s/it]\n"
     ]
    }
   ],
   "source": [
    "reconst_volume = RL_3Ddeconv(img, FFT_PSF, vol_0, FFT_PSF_inv_norm, 10)"
   ]
  },
  {
   "cell_type": "code",
   "execution_count": null,
   "metadata": {},
   "outputs": [],
   "source": []
  }
 ],
 "metadata": {
  "kernelspec": {
   "display_name": "base",
   "language": "python",
   "name": "python3"
  },
  "language_info": {
   "codemirror_mode": {
    "name": "ipython",
    "version": 3
   },
   "file_extension": ".py",
   "mimetype": "text/x-python",
   "name": "python",
   "nbconvert_exporter": "python",
   "pygments_lexer": "ipython3",
   "version": "3.9.18"
  }
 },
 "nbformat": 4,
 "nbformat_minor": 2
}
